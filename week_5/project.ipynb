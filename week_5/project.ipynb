{
 "cells": [
  {
   "cell_type": "code",
   "execution_count": 1,
   "id": "ebe65a95-cd6a-427a-807d-878155234a2e",
   "metadata": {},
   "outputs": [
    {
     "name": "stdout",
     "output_type": "stream",
     "text": [
      "Requirement already satisfied: pandas in c:\\users\\franc\\anaconda3\\lib\\site-packages (2.2.2)\n",
      "Requirement already satisfied: numpy>=1.26.0 in c:\\users\\franc\\anaconda3\\lib\\site-packages (from pandas) (1.26.4)\n",
      "Requirement already satisfied: python-dateutil>=2.8.2 in c:\\users\\franc\\anaconda3\\lib\\site-packages (from pandas) (2.9.0.post0)\n",
      "Requirement already satisfied: pytz>=2020.1 in c:\\users\\franc\\anaconda3\\lib\\site-packages (from pandas) (2024.1)\n",
      "Requirement already satisfied: tzdata>=2022.7 in c:\\users\\franc\\anaconda3\\lib\\site-packages (from pandas) (2023.3)\n",
      "Requirement already satisfied: six>=1.5 in c:\\users\\franc\\anaconda3\\lib\\site-packages (from python-dateutil>=2.8.2->pandas) (1.16.0)\n",
      "Note: you may need to restart the kernel to use updated packages.\n"
     ]
    }
   ],
   "source": [
    "pip install pandas"
   ]
  },
  {
   "cell_type": "code",
   "execution_count": 2,
   "id": "ca8188c2-99f7-4287-91fe-41001e7823d0",
   "metadata": {},
   "outputs": [
    {
     "name": "stdout",
     "output_type": "stream",
     "text": [
      "Note: you may need to restart the kernel to use updated packages.\n"
     ]
    },
    {
     "name": "stderr",
     "output_type": "stream",
     "text": [
      "ERROR: Could not find a version that satisfies the requirement tkinter (from versions: none)\n",
      "ERROR: No matching distribution found for tkinter\n"
     ]
    }
   ],
   "source": [
    "pip install tkinter"
   ]
  },
  {
   "cell_type": "code",
   "execution_count": null,
   "id": "bbebc655-2c2d-4fad-ace0-1e4ebb29dd29",
   "metadata": {},
   "outputs": [],
   "source": [
    "import pandas as pd\n",
    "import tkinter as tk\n",
    "from tkinter import messagebox\n",
    "\n",
    "# Load the CSV file\n",
    "try:\n",
    "    data = pd.read_csv(\"GIG-logistics.csv\")\n",
    "except FileNotFoundError:\n",
    "    print(\"GIG-logistics.csv not found. Please place it in the same directory as this script.\")\n",
    "    exit()\n",
    "\n",
    "# Create the GUI\n",
    "root = tk.Tk()\n",
    "root.title(\"Employee Verification\")\n",
    "\n",
    "tk.Label(root, text=\"Enter Name:\").grid(row=0, column=0, padx=10, pady=5)\n",
    "tk.Label(root, text=\"Enter Department:\").grid(row=1, column=0, padx=10, pady=5)\n",
    "\n",
    "name_entry = tk.Entry(root)\n",
    "dept_entry = tk.Entry(root)\n",
    "\n",
    "name_entry.grid(row=0, column=1, padx=10, pady=5)\n",
    "dept_entry.grid(row=1, column=1, padx=10, pady=5)\n",
    "\n",
    "def verify_employee():\n",
    "    name = name_entry.get().strip().lower()\n",
    "    dept = dept_entry.get().strip().lower()\n",
    "\n",
    "    # Lowercase everything for case-insensitive comparison\n",
    "    data['Name_lower'] = data['Name'].str.lower()\n",
    "    data['Department_lower'] = data['Department'].str.lower()\n",
    "\n",
    "    # Check if employee exists\n",
    "    match = data[(data['Name_lower'] == name) & (data['Department_lower'] == dept)]\n",
    "\n",
    "    if not match.empty:\n",
    "        other_members = data[(data['Department_lower'] == dept) & (data['Name_lower'] != name)]\n",
    "        other_names = \"\\n\".join(other_members['Name'].tolist())\n",
    "\n",
    "        message = f\"Welcome, {match.iloc[0]['Name']}!\\n\\nOther members in {match.iloc[0]['Department']}:\\n{other_names or 'None'}\"\n",
    "        messagebox.showinfo(\"Employee Verified\", message)\n",
    "    else:\n",
    "        messagebox.showwarning(\"Not Found\", \"Employee does not exist in the specified department.\")\n",
    "\n",
    "tk.Button(root, text=\"Verify\", command=verify_employee).grid(row=2, column=0, columnspan=2, pady=10)\n",
    "\n",
    "root.mainloop()\n"
   ]
  }
 ],
 "metadata": {
  "kernelspec": {
   "display_name": "Python [conda env:base] *",
   "language": "python",
   "name": "conda-base-py"
  },
  "language_info": {
   "codemirror_mode": {
    "name": "ipython",
    "version": 3
   },
   "file_extension": ".py",
   "mimetype": "text/x-python",
   "name": "python",
   "nbconvert_exporter": "python",
   "pygments_lexer": "ipython3",
   "version": "3.12.7"
  }
 },
 "nbformat": 4,
 "nbformat_minor": 5
}
